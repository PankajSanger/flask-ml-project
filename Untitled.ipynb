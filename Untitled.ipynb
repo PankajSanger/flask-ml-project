{
 "cells": [
  {
   "cell_type": "code",
   "execution_count": null,
   "id": "69b18e8c-8dfa-4156-b890-a3eb78224611",
   "metadata": {},
   "outputs": [],
   "source": []
  }
 ],
 "metadata": {
  "kernelspec": {
   "display_name": "",
   "name": ""
  },
  "language_info": {
   "name": ""
  }
 },
 "nbformat": 4,
 "nbformat_minor": 5
}
